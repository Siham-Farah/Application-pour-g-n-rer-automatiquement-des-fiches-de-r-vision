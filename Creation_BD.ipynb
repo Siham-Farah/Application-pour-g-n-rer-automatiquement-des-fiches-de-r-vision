{
 "cells": [
  {
   "cell_type": "code",
   "execution_count": 6,
   "id": "97a4ec64-5c23-4bb7-9c24-13c8ac6cc400",
   "metadata": {},
   "outputs": [],
   "source": [
    "from pymongo import MongoClient\n",
    "\n",
    "client = MongoClient(\"mongodb://localhost:27017/\")  # Connexion à MongoDB local\n",
    "db = client[\"cours_db\"]  # Création de la base de données\n",
    "collection = db[\"documents\"]  # Création de la collection\n"
   ]
  },
  {
   "cell_type": "code",
   "execution_count": 2,
   "id": "85f5934f-7a6a-4e55-8c34-8ebde057f439",
   "metadata": {},
   "outputs": [
    {
     "name": "stdout",
     "output_type": "stream",
     "text": [
      "Collecting pymongo\n",
      "  Downloading pymongo-4.11.1-cp311-cp311-win_amd64.whl.metadata (22 kB)\n",
      "Collecting dnspython<3.0.0,>=1.16.0 (from pymongo)\n",
      "  Using cached dnspython-2.7.0-py3-none-any.whl.metadata (5.8 kB)\n",
      "Downloading pymongo-4.11.1-cp311-cp311-win_amd64.whl (831 kB)\n",
      "   ---------------------------------------- 0.0/831.6 kB ? eta -:--:--\n",
      "   - -------------------------------------- 30.7/831.6 kB ? eta -:--:--\n",
      "   ---- ---------------------------------- 92.2/831.6 kB 871.5 kB/s eta 0:00:01\n",
      "   -------- ------------------------------- 174.1/831.6 kB 1.2 MB/s eta 0:00:01\n",
      "   ----------- ---------------------------- 235.5/831.6 kB 1.1 MB/s eta 0:00:01\n",
      "   --------------- ------------------------ 317.4/831.6 kB 1.2 MB/s eta 0:00:01\n",
      "   ------------------ --------------------- 389.1/831.6 kB 1.3 MB/s eta 0:00:01\n",
      "   ------------------- -------------------- 399.4/831.6 kB 1.2 MB/s eta 0:00:01\n",
      "   ------------------- -------------------- 399.4/831.6 kB 1.2 MB/s eta 0:00:01\n",
      "   ------------------- -------------------- 399.4/831.6 kB 1.2 MB/s eta 0:00:01\n",
      "   ------------------- -------------------- 399.4/831.6 kB 1.2 MB/s eta 0:00:01\n",
      "   ------------------- -------------------- 399.4/831.6 kB 1.2 MB/s eta 0:00:01\n",
      "   ------------------- -------------------- 399.4/831.6 kB 1.2 MB/s eta 0:00:01\n",
      "   ------------------- -------------------- 399.4/831.6 kB 1.2 MB/s eta 0:00:01\n",
      "   ---------------------- --------------- 501.8/831.6 kB 551.6 kB/s eta 0:00:01\n",
      "   ------------------------------ ------- 665.6/831.6 kB 655.4 kB/s eta 0:00:01\n",
      "   ------------------------------ ------- 665.6/831.6 kB 655.4 kB/s eta 0:00:01\n",
      "   ------------------------------ ------- 665.6/831.6 kB 655.4 kB/s eta 0:00:01\n",
      "   ------------------------------ ------- 675.8/831.6 kB 583.3 kB/s eta 0:00:01\n",
      "   ------------------------------ ------- 675.8/831.6 kB 583.3 kB/s eta 0:00:01\n",
      "   ------------------------------- ------ 696.3/831.6 kB 562.8 kB/s eta 0:00:01\n",
      "   -------------------------------- ----- 716.8/831.6 kB 544.8 kB/s eta 0:00:01\n",
      "   --------------------------------- ---- 727.0/831.6 kB 527.1 kB/s eta 0:00:01\n",
      "   ---------------------------------- --- 757.8/831.6 kB 525.7 kB/s eta 0:00:01\n",
      "   ------------------------------------ - 798.7/831.6 kB 542.3 kB/s eta 0:00:01\n",
      "   ------------------------------------ - 809.0/831.6 kB 516.3 kB/s eta 0:00:01\n",
      "   ------------------------------------ - 809.0/831.6 kB 516.3 kB/s eta 0:00:01\n",
      "   ------------------------------------ - 809.0/831.6 kB 516.3 kB/s eta 0:00:01\n",
      "   ------------------------------------ - 809.0/831.6 kB 516.3 kB/s eta 0:00:01\n",
      "   ------------------------------------ - 809.0/831.6 kB 516.3 kB/s eta 0:00:01\n",
      "   ------------------------------------ - 809.0/831.6 kB 516.3 kB/s eta 0:00:01\n",
      "   ------------------------------------ - 809.0/831.6 kB 516.3 kB/s eta 0:00:01\n",
      "   ------------------------------------ - 809.0/831.6 kB 516.3 kB/s eta 0:00:01\n",
      "   -------------------------------------  829.4/831.6 kB 416.0 kB/s eta 0:00:01\n",
      "   -------------------------------------- 831.6/831.6 kB 407.4 kB/s eta 0:00:00\n",
      "Using cached dnspython-2.7.0-py3-none-any.whl (313 kB)\n",
      "Installing collected packages: dnspython, pymongo\n",
      "Successfully installed dnspython-2.7.0 pymongo-4.11.1\n",
      "Note: you may need to restart the kernel to use updated packages.\n"
     ]
    }
   ],
   "source": [
    "pip install pymongo"
   ]
  },
  {
   "cell_type": "code",
   "execution_count": 10,
   "id": "d564b271-d9f8-41f3-bcc2-a55d0b20b0cd",
   "metadata": {},
   "outputs": [
    {
     "name": "stdout",
     "output_type": "stream",
     "text": [
      "Bases de données disponibles : ['admin', 'config', 'cours_db', 'local']\n"
     ]
    }
   ],
   "source": [
    "from pymongo import MongoClient\n",
    "\n",
    "client = MongoClient(\"mongodb://localhost:27017/\")  # Connexion à MongoDB\n",
    "db = client[\"cours_db\"]  # Création de la base de données\n",
    "\n",
    "# Lister toutes les bases de données\n",
    "print(\"Bases de données disponibles :\", client.list_database_names())\n"
   ]
  },
  {
   "cell_type": "code",
   "execution_count": 7,
   "id": "3a93970a-6cb3-47de-b3d2-ba19faf59980",
   "metadata": {},
   "outputs": [
    {
     "name": "stdout",
     "output_type": "stream",
     "text": [
      "pymongo installé avec succès !\n"
     ]
    }
   ],
   "source": [
    "import pymongo\n",
    "print(\"pymongo installé avec succès !\")\n"
   ]
  },
  {
   "cell_type": "code",
   "execution_count": 17,
   "id": "10c805f2-299a-4361-9bf2-193370062339",
   "metadata": {},
   "outputs": [
    {
     "name": "stdout",
     "output_type": "stream",
     "text": [
      "📂 Lecture du fichier : C:/Users/PC/Desktop/ProjetSD/DATA_PYTHON_JSON\\1- Introduction-2022.pdf.json\n",
      "✅ Données insérées depuis 1- Introduction-2022.pdf.json dans la collection 'module_Python'.\n",
      "📂 Lecture du fichier : C:/Users/PC/Desktop/ProjetSD/DATA_PYTHON_JSON\\2-Elements de bases(variables-Opérateurs-Entrée-Sortie 2021.pdf.json\n",
      "✅ Données insérées depuis 2-Elements de bases(variables-Opérateurs-Entrée-Sortie 2021.pdf.json dans la collection 'module_Python'.\n",
      "📂 Lecture du fichier : C:/Users/PC/Desktop/ProjetSD/DATA_PYTHON_JSON\\3-Structures-Repetitives 2021[Enregistré automatiquement].pdf.json\n",
      "✅ Données insérées depuis 3-Structures-Repetitives 2021[Enregistré automatiquement].pdf.json dans la collection 'module_Python'.\n",
      "📂 Lecture du fichier : C:/Users/PC/Desktop/ProjetSD/DATA_PYTHON_JSON\\Cours de Python-1.pdf.json\n",
      "✅ Données insérées depuis Cours de Python-1.pdf.json dans la collection 'module_Python'.\n",
      "📂 Lecture du fichier : C:/Users/PC/Desktop/ProjetSD/DATA_PYTHON_JSON\\Cours de Python-2.pdf.json\n",
      "✅ Données insérées depuis Cours de Python-2.pdf.json dans la collection 'module_Python'.\n",
      "📂 Lecture du fichier : C:/Users/PC/Desktop/ProjetSD/DATA_PYTHON_JSON\\Cours de Python-3.pdf.json\n",
      "✅ Données insérées depuis Cours de Python-3.pdf.json dans la collection 'module_Python'.\n",
      "📂 Lecture du fichier : C:/Users/PC/Desktop/ProjetSD/DATA_PYTHON_JSON\\Cours de Python-4.pdf.json\n",
      "✅ Données insérées depuis Cours de Python-4.pdf.json dans la collection 'module_Python'.\n",
      "📂 Lecture du fichier : C:/Users/PC/Desktop/ProjetSD/DATA_PYTHON_JSON\\Cours de Python-5.pdf.json\n",
      "✅ Données insérées depuis Cours de Python-5.pdf.json dans la collection 'module_Python'.\n",
      "📂 Lecture du fichier : C:/Users/PC/Desktop/ProjetSD/DATA_PYTHON_JSON\\Cours de Python-6.pdf.json\n",
      "✅ Données insérées depuis Cours de Python-6.pdf.json dans la collection 'module_Python'.\n",
      "📂 Lecture du fichier : C:/Users/PC/Desktop/ProjetSD/DATA_PYTHON_JSON\\Cours de Python-7.pdf.json\n",
      "✅ Données insérées depuis Cours de Python-7.pdf.json dans la collection 'module_Python'.\n",
      "📂 Lecture du fichier : C:/Users/PC/Desktop/ProjetSD/DATA_PYTHON_JSON\\Cours de Python.pdf.json\n",
      "✅ Données insérées depuis Cours de Python.pdf.json dans la collection 'module_Python'.\n",
      "📂 Lecture du fichier : C:/Users/PC/Desktop/ProjetSD/DATA_PYTHON_JSON\\courspython3.pdf.json\n",
      "✅ Données insérées depuis courspython3.pdf.json dans la collection 'module_Python'.\n",
      "📂 Lecture du fichier : C:/Users/PC/Desktop/ProjetSD/DATA_PYTHON_JSON\\des-bases-de-donnees-en-python-avec-sqlite3.pdf.json\n",
      "✅ Données insérées depuis des-bases-de-donnees-en-python-avec-sqlite3.pdf.json dans la collection 'module_Python'.\n",
      "📂 Lecture du fichier : C:/Users/PC/Desktop/ProjetSD/DATA_PYTHON_JSON\\les sous-programmes.pdf.json\n",
      "✅ Données insérées depuis les sous-programmes.pdf.json dans la collection 'module_Python'.\n",
      "📂 Lecture du fichier : C:/Users/PC/Desktop/ProjetSD/DATA_PYTHON_JSON\\pooArticle-1.pdf.json\n",
      "✅ Données insérées depuis pooArticle-1.pdf.json dans la collection 'module_Python'.\n",
      "📂 Lecture du fichier : C:/Users/PC/Desktop/ProjetSD/DATA_PYTHON_JSON\\pooArticle-1.pptx.json\n",
      "✅ Données insérées depuis pooArticle-1.pptx.json dans la collection 'module_Python'.\n",
      "📂 Lecture du fichier : C:/Users/PC/Desktop/ProjetSD/DATA_PYTHON_JSON\\pooArticle-2.pdf.json\n",
      "✅ Données insérées depuis pooArticle-2.pdf.json dans la collection 'module_Python'.\n",
      "📂 Lecture du fichier : C:/Users/PC/Desktop/ProjetSD/DATA_PYTHON_JSON\\pooArticle-3.pdf.json\n",
      "✅ Données insérées depuis pooArticle-3.pdf.json dans la collection 'module_Python'.\n",
      "📂 Lecture du fichier : C:/Users/PC/Desktop/ProjetSD/DATA_PYTHON_JSON\\pooArticle-4.docx.json\n",
      "✅ Données insérées depuis pooArticle-4.docx.json dans la collection 'module_Python'.\n",
      "📂 Lecture du fichier : C:/Users/PC/Desktop/ProjetSD/DATA_PYTHON_JSON\\pooArticle-4.pdf.json\n",
      "✅ Données insérées depuis pooArticle-4.pdf.json dans la collection 'module_Python'.\n",
      "📂 Lecture du fichier : C:/Users/PC/Desktop/ProjetSD/DATA_PYTHON_JSON\\pooArticle-5.pdf.json\n",
      "✅ Données insérées depuis pooArticle-5.pdf.json dans la collection 'module_Python'.\n",
      "📂 Lecture du fichier : C:/Users/PC/Desktop/ProjetSD/DATA_PYTHON_JSON\\pooArticle-6.pdf.json\n",
      "✅ Données insérées depuis pooArticle-6.pdf.json dans la collection 'module_Python'.\n",
      "📂 Lecture du fichier : C:/Users/PC/Desktop/ProjetSD/DATA_PYTHON_JSON\\pooArticle-7.pdf.json\n",
      "✅ Données insérées depuis pooArticle-7.pdf.json dans la collection 'module_Python'.\n",
      "📂 Lecture du fichier : C:/Users/PC/Desktop/ProjetSD/DATA_PYTHON_JSON\\pooArticle-8.pdf.json\n",
      "✅ Données insérées depuis pooArticle-8.pdf.json dans la collection 'module_Python'.\n",
      "📂 Lecture du fichier : C:/Users/PC/Desktop/ProjetSD/DATA_PYTHON_JSON\\pooArticle-9.pdf.json\n",
      "✅ Données insérées depuis pooArticle-9.pdf.json dans la collection 'module_Python'.\n",
      "🚀 Insertion terminée avec succès !\n"
     ]
    }
   ],
   "source": [
    "import os\n",
    "import json\n",
    "from pymongo import MongoClient\n",
    "\n",
    "# Connexion à MongoDB\n",
    "client = MongoClient(\"mongodb://localhost:27017/\")\n",
    "db = client[\"cours_db\"]  # Base de données\n",
    "\n",
    "# Spécifie le dossier contenant les fichiers JSON\n",
    "folder_path = \"C:/Users/PC/Desktop/ProjetSD/DATA_PYTHON_JSON\"  # Chemin du dossier\n",
    "collection_name = \"module_Python\"  # Collection cible\n",
    "\n",
    "# Vérifie si le dossier existe\n",
    "if not os.path.exists(folder_path):\n",
    "    print(f\"❌ Erreur : Le dossier '{folder_path}' n'existe pas.\")\n",
    "else:\n",
    "    json_files = [f for f in os.listdir(folder_path) if f.endswith(\".json\")]  # Liste des fichiers JSON\n",
    "\n",
    "    if not json_files:\n",
    "        print(\"⚠️ Aucun fichier JSON trouvé dans le dossier !\")\n",
    "    else:\n",
    "        for file_name in json_files:\n",
    "            file_path = os.path.join(folder_path, file_name)\n",
    "            \n",
    "            print(f\"📂 Lecture du fichier : {file_path}\")\n",
    "            with open(file_path, \"r\", encoding=\"utf-8\") as file:\n",
    "                documents = json.load(file)  # Charger le JSON\n",
    "                \n",
    "                if isinstance(documents, list):  \n",
    "                    db[collection_name].insert_many(documents)  # Insérer plusieurs documents\n",
    "                else:\n",
    "                    db[collection_name].insert_one(documents)  # Insérer un seul document\n",
    "\n",
    "            print(f\"✅ Données insérées depuis {file_name} dans la collection '{collection_name}'.\")\n",
    "\n",
    "print(\"🚀 Insertion terminée avec succès !\")\n"
   ]
  },
  {
   "cell_type": "code",
   "execution_count": 18,
   "id": "18bd4ba3-b0c4-4c9c-8129-92ab72b38045",
   "metadata": {},
   "outputs": [
    {
     "name": "stdout",
     "output_type": "stream",
     "text": [
      "📂 Lecture du fichier : C:/Users/PC/Desktop/ProjetSD/DATA_JAVA_JSON\\CH_1JAVA.pptx.json\n",
      "✅ Données insérées depuis CH_1JAVA.pptx.json dans la collection 'module_Java'.\n",
      "📂 Lecture du fichier : C:/Users/PC/Desktop/ProjetSD/DATA_JAVA_JSON\\CH_2_POO avec Java_partie_1.pptx.json\n",
      "✅ Données insérées depuis CH_2_POO avec Java_partie_1.pptx.json dans la collection 'module_Java'.\n",
      "📂 Lecture du fichier : C:/Users/PC/Desktop/ProjetSD/DATA_JAVA_JSON\\CH_2_POO avec Java_partie_2.pptx.json\n",
      "✅ Données insérées depuis CH_2_POO avec Java_partie_2.pptx.json dans la collection 'module_Java'.\n",
      "📂 Lecture du fichier : C:/Users/PC/Desktop/ProjetSD/DATA_JAVA_JSON\\CH_3_Paradigmes avancés de la POO en Java_partie_1.pptx.json\n",
      "✅ Données insérées depuis CH_3_Paradigmes avancés de la POO en Java_partie_1.pptx.json dans la collection 'module_Java'.\n",
      "📂 Lecture du fichier : C:/Users/PC/Desktop/ProjetSD/DATA_JAVA_JSON\\CH_3_Paradigmes avancés de la POO en Java_partie_21.pdf.json\n",
      "✅ Données insérées depuis CH_3_Paradigmes avancés de la POO en Java_partie_21.pdf.json dans la collection 'module_Java'.\n",
      "📂 Lecture du fichier : C:/Users/PC/Desktop/ProjetSD/DATA_JAVA_JSON\\CH_3_Paradigmes avancés de la POO en Java_partie_22.docx.json\n",
      "✅ Données insérées depuis CH_3_Paradigmes avancés de la POO en Java_partie_22.docx.json dans la collection 'module_Java'.\n",
      "📂 Lecture du fichier : C:/Users/PC/Desktop/ProjetSD/DATA_JAVA_JSON\\CH_3_Paradigmes avancés de la POO en Java_partie_22.pdf.json\n",
      "✅ Données insérées depuis CH_3_Paradigmes avancés de la POO en Java_partie_22.pdf.json dans la collection 'module_Java'.\n",
      "📂 Lecture du fichier : C:/Users/PC/Desktop/ProjetSD/DATA_JAVA_JSON\\CH_3_Paradigmes avancés de la POO en Java_partie_23.pdf.json\n",
      "✅ Données insérées depuis CH_3_Paradigmes avancés de la POO en Java_partie_23.pdf.json dans la collection 'module_Java'.\n",
      "📂 Lecture du fichier : C:/Users/PC/Desktop/ProjetSD/DATA_JAVA_JSON\\CH_3_Paradigmes avancés de la POO en Java_partie_3.pdf.json\n",
      "✅ Données insérées depuis CH_3_Paradigmes avancés de la POO en Java_partie_3.pdf.json dans la collection 'module_Java'.\n",
      "📂 Lecture du fichier : C:/Users/PC/Desktop/ProjetSD/DATA_JAVA_JSON\\CH_3_Paradigmes avancés de la POO en Java_partie_31.pdf.json\n",
      "✅ Données insérées depuis CH_3_Paradigmes avancés de la POO en Java_partie_31.pdf.json dans la collection 'module_Java'.\n",
      "📂 Lecture du fichier : C:/Users/PC/Desktop/ProjetSD/DATA_JAVA_JSON\\CH_3_Paradigmes avancés de la POO en Java_partie_32.pdf.json\n",
      "✅ Données insérées depuis CH_3_Paradigmes avancés de la POO en Java_partie_32.pdf.json dans la collection 'module_Java'.\n",
      "📂 Lecture du fichier : C:/Users/PC/Desktop/ProjetSD/DATA_JAVA_JSON\\CH_3_Paradigmes avancés de la POO en Java_partie_33.pdf.json\n",
      "✅ Données insérées depuis CH_3_Paradigmes avancés de la POO en Java_partie_33.pdf.json dans la collection 'module_Java'.\n",
      "📂 Lecture du fichier : C:/Users/PC/Desktop/ProjetSD/DATA_JAVA_JSON\\CH_4_Gestion_Exceptions_Enumérations_Généricité_partie_1.pptx.json\n",
      "✅ Données insérées depuis CH_4_Gestion_Exceptions_Enumérations_Généricité_partie_1.pptx.json dans la collection 'module_Java'.\n",
      "📂 Lecture du fichier : C:/Users/PC/Desktop/ProjetSD/DATA_JAVA_JSON\\CH_4_Gestion_Exceptions_Enumérations_Généricité_partie_2.pdf.json\n",
      "✅ Données insérées depuis CH_4_Gestion_Exceptions_Enumérations_Généricité_partie_2.pdf.json dans la collection 'module_Java'.\n",
      "📂 Lecture du fichier : C:/Users/PC/Desktop/ProjetSD/DATA_JAVA_JSON\\courscomplet_Hugues Fauconnier.pdf.json\n",
      "✅ Données insérées depuis courscomplet_Hugues Fauconnier.pdf.json dans la collection 'module_Java'.\n",
      "📂 Lecture du fichier : C:/Users/PC/Desktop/ProjetSD/DATA_JAVA_JSON\\CoursJavaP1_Université de Paris 13.pdf.json\n",
      "✅ Données insérées depuis CoursJavaP1_Université de Paris 13.pdf.json dans la collection 'module_Java'.\n",
      "📂 Lecture du fichier : C:/Users/PC/Desktop/ProjetSD/DATA_JAVA_JSON\\Intro.pdf.json\n",
      "✅ Données insérées depuis Intro.pdf.json dans la collection 'module_Java'.\n",
      "📂 Lecture du fichier : C:/Users/PC/Desktop/ProjetSD/DATA_JAVA_JSON\\IP1-java-cours-td-1-4.pdf.json\n",
      "✅ Données insérées depuis IP1-java-cours-td-1-4.pdf.json dans la collection 'module_Java'.\n",
      "📂 Lecture du fichier : C:/Users/PC/Desktop/ProjetSD/DATA_JAVA_JSON\\livretJava_, INSA Rouen.pdf.json\n",
      "✅ Données insérées depuis livretJava_, INSA Rouen.pdf.json dans la collection 'module_Java'.\n",
      "📂 Lecture du fichier : C:/Users/PC/Desktop/ProjetSD/DATA_JAVA_JSON\\Persistence_Données_JDBC.pdf.json\n",
      "✅ Données insérées depuis Persistence_Données_JDBC.pdf.json dans la collection 'module_Java'.\n",
      "🚀 Insertion terminée avec succès !\n"
     ]
    }
   ],
   "source": [
    "import os\n",
    "import json\n",
    "from pymongo import MongoClient\n",
    "\n",
    "# Connexion à MongoDB\n",
    "client = MongoClient(\"mongodb://localhost:27017/\")\n",
    "db = client[\"cours_db\"]  # Base de données\n",
    "\n",
    "# Spécifie le dossier contenant les fichiers JSON\n",
    "folder_path = \"C:/Users/PC/Desktop/ProjetSD/DATA_JAVA_JSON\"  # Chemin du dossier\n",
    "collection_name = \"module_Java\"  # Collection cible\n",
    "\n",
    "# Vérifie si le dossier existe\n",
    "if not os.path.exists(folder_path):\n",
    "    print(f\"❌ Erreur : Le dossier '{folder_path}' n'existe pas.\")\n",
    "else:\n",
    "    json_files = [f for f in os.listdir(folder_path) if f.endswith(\".json\")]  # Liste des fichiers JSON\n",
    "\n",
    "    if not json_files:\n",
    "        print(\"⚠️ Aucun fichier JSON trouvé dans le dossier !\")\n",
    "    else:\n",
    "        for file_name in json_files:\n",
    "            file_path = os.path.join(folder_path, file_name)\n",
    "            \n",
    "            print(f\"📂 Lecture du fichier : {file_path}\")\n",
    "            with open(file_path, \"r\", encoding=\"utf-8\") as file:\n",
    "                documents = json.load(file)  # Charger le JSON\n",
    "                \n",
    "                if isinstance(documents, list):  \n",
    "                    db[collection_name].insert_many(documents)  # Insérer plusieurs documents\n",
    "                else:\n",
    "                    db[collection_name].insert_one(documents)  # Insérer un seul document\n",
    "\n",
    "            print(f\"✅ Données insérées depuis {file_name} dans la collection '{collection_name}'.\")\n",
    "\n",
    "print(\"🚀 Insertion terminée avec succès !\")\n"
   ]
  },
  {
   "cell_type": "code",
   "execution_count": null,
   "id": "174d9321-6778-4eb7-b0b9-160a2f94a1f9",
   "metadata": {},
   "outputs": [],
   "source": []
  }
 ],
 "metadata": {
  "kernelspec": {
   "display_name": "Python 3 (ipykernel)",
   "language": "python",
   "name": "python3"
  },
  "language_info": {
   "codemirror_mode": {
    "name": "ipython",
    "version": 3
   },
   "file_extension": ".py",
   "mimetype": "text/x-python",
   "name": "python",
   "nbconvert_exporter": "python",
   "pygments_lexer": "ipython3",
   "version": "3.11.7"
  }
 },
 "nbformat": 4,
 "nbformat_minor": 5
}
